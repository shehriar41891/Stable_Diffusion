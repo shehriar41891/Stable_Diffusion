{
  "nbformat": 4,
  "nbformat_minor": 0,
  "metadata": {
    "colab": {
      "provenance": [],
      "gpuType": "T4",
      "authorship_tag": "ABX9TyOhDn3UXFDivvL1D/kK1xfZ",
      "include_colab_link": true
    },
    "kernelspec": {
      "name": "python3",
      "display_name": "Python 3"
    },
    "language_info": {
      "name": "python"
    },
    "accelerator": "GPU"
  },
  "cells": [
    {
      "cell_type": "markdown",
      "metadata": {
        "id": "view-in-github",
        "colab_type": "text"
      },
      "source": [
        "<a href=\"https://colab.research.google.com/github/shehriar41891/Stable_Diffusion/blob/main/StableDiffusion.ipynb\" target=\"_parent\"><img src=\"https://colab.research.google.com/assets/colab-badge.svg\" alt=\"Open In Colab\"/></a>"
      ]
    },
    {
      "cell_type": "code",
      "execution_count": 1,
      "metadata": {
        "colab": {
          "base_uri": "https://localhost:8080/"
        },
        "id": "TctQDEBJ-9-5",
        "outputId": "68f62dc6-ab0d-49c8-dedc-84e774b5fc36"
      },
      "outputs": [
        {
          "output_type": "stream",
          "name": "stdout",
          "text": [
            "Requirement already satisfied: fastapi==0.90 in /usr/local/lib/python3.10/dist-packages (0.90.0)\n",
            "Requirement already satisfied: pydantic!=1.7,!=1.7.1,!=1.7.2,!=1.7.3,!=1.8,!=1.8.1,<2.0.0,>=1.6.2 in /usr/local/lib/python3.10/dist-packages (from fastapi==0.90) (1.10.18)\n",
            "Requirement already satisfied: starlette<=0.23.0,>=0.22.0 in /usr/local/lib/python3.10/dist-packages (from fastapi==0.90) (0.23.0)\n",
            "Requirement already satisfied: typing-extensions>=4.2.0 in /usr/local/lib/python3.10/dist-packages (from pydantic!=1.7,!=1.7.1,!=1.7.2,!=1.7.3,!=1.8,!=1.8.1,<2.0.0,>=1.6.2->fastapi==0.90) (4.12.2)\n",
            "Requirement already satisfied: anyio<5,>=3.4.0 in /usr/local/lib/python3.10/dist-packages (from starlette<=0.23.0,>=0.22.0->fastapi==0.90) (3.7.1)\n",
            "Requirement already satisfied: idna>=2.8 in /usr/local/lib/python3.10/dist-packages (from anyio<5,>=3.4.0->starlette<=0.23.0,>=0.22.0->fastapi==0.90) (3.10)\n",
            "Requirement already satisfied: sniffio>=1.1 in /usr/local/lib/python3.10/dist-packages (from anyio<5,>=3.4.0->starlette<=0.23.0,>=0.22.0->fastapi==0.90) (1.3.1)\n",
            "Requirement already satisfied: exceptiongroup in /usr/local/lib/python3.10/dist-packages (from anyio<5,>=3.4.0->starlette<=0.23.0,>=0.22.0->fastapi==0.90) (1.2.2)\n",
            "fatal: destination path 'stable-diffusion-webui' already exists and is not an empty directory.\n",
            "/content/stable-diffusion-webui\n",
            "M\trequirements_versions.txt\n",
            "HEAD is now at 2c1bb46c amend the error in previous commit\n"
          ]
        }
      ],
      "source": [
        "!pip install fastapi==0.90\n",
        "!git clone https://github.com/AUTOMATIC1111/stable-diffusion-webui.git\n",
        "%cd stable-diffusion-webui/\n",
        "!git checkout 2c1bb46c7ad5b4536f6587d327a03f0ff7811c5d"
      ]
    },
    {
      "cell_type": "code",
      "source": [
        "pip install basicsr #show basicsr"
      ],
      "metadata": {
        "colab": {
          "base_uri": "https://localhost:8080/"
        },
        "id": "UaDmph-udpig",
        "outputId": "306ee42a-bc95-4f83-fca3-edcdedaab2ec"
      },
      "execution_count": 2,
      "outputs": [
        {
          "output_type": "stream",
          "name": "stdout",
          "text": [
            "Requirement already satisfied: basicsr in /usr/local/lib/python3.10/dist-packages (1.4.2)\n",
            "Requirement already satisfied: addict in /usr/local/lib/python3.10/dist-packages (from basicsr) (2.4.0)\n",
            "Requirement already satisfied: future in /usr/local/lib/python3.10/dist-packages (from basicsr) (1.0.0)\n",
            "Requirement already satisfied: lmdb in /usr/local/lib/python3.10/dist-packages (from basicsr) (1.5.1)\n",
            "Requirement already satisfied: numpy>=1.17 in /usr/local/lib/python3.10/dist-packages (from basicsr) (1.26.4)\n",
            "Requirement already satisfied: opencv-python in /usr/local/lib/python3.10/dist-packages (from basicsr) (4.10.0.84)\n",
            "Requirement already satisfied: Pillow in /usr/local/lib/python3.10/dist-packages (from basicsr) (10.4.0)\n",
            "Requirement already satisfied: pyyaml in /usr/local/lib/python3.10/dist-packages (from basicsr) (6.0.2)\n",
            "Requirement already satisfied: requests in /usr/local/lib/python3.10/dist-packages (from basicsr) (2.32.3)\n",
            "Requirement already satisfied: scikit-image in /usr/local/lib/python3.10/dist-packages (from basicsr) (0.24.0)\n",
            "Requirement already satisfied: scipy in /usr/local/lib/python3.10/dist-packages (from basicsr) (1.13.1)\n",
            "Requirement already satisfied: tb-nightly in /usr/local/lib/python3.10/dist-packages (from basicsr) (2.19.0a20240927)\n",
            "Requirement already satisfied: torch>=1.7 in /usr/local/lib/python3.10/dist-packages (from basicsr) (2.4.1+cpu)\n",
            "Requirement already satisfied: torchvision in /usr/local/lib/python3.10/dist-packages (from basicsr) (0.19.1+cpu)\n",
            "Requirement already satisfied: tqdm in /usr/local/lib/python3.10/dist-packages (from basicsr) (4.66.5)\n",
            "Requirement already satisfied: yapf in /usr/local/lib/python3.10/dist-packages (from basicsr) (0.40.2)\n",
            "Requirement already satisfied: filelock in /usr/local/lib/python3.10/dist-packages (from torch>=1.7->basicsr) (3.16.1)\n",
            "Requirement already satisfied: typing-extensions>=4.8.0 in /usr/local/lib/python3.10/dist-packages (from torch>=1.7->basicsr) (4.12.2)\n",
            "Requirement already satisfied: sympy in /usr/local/lib/python3.10/dist-packages (from torch>=1.7->basicsr) (1.13.3)\n",
            "Requirement already satisfied: networkx in /usr/local/lib/python3.10/dist-packages (from torch>=1.7->basicsr) (3.3)\n",
            "Requirement already satisfied: jinja2 in /usr/local/lib/python3.10/dist-packages (from torch>=1.7->basicsr) (3.1.4)\n",
            "Requirement already satisfied: fsspec in /usr/local/lib/python3.10/dist-packages (from torch>=1.7->basicsr) (2024.6.1)\n",
            "Requirement already satisfied: charset-normalizer<4,>=2 in /usr/local/lib/python3.10/dist-packages (from requests->basicsr) (3.3.2)\n",
            "Requirement already satisfied: idna<4,>=2.5 in /usr/local/lib/python3.10/dist-packages (from requests->basicsr) (3.10)\n",
            "Requirement already satisfied: urllib3<3,>=1.21.1 in /usr/local/lib/python3.10/dist-packages (from requests->basicsr) (2.2.3)\n",
            "Requirement already satisfied: certifi>=2017.4.17 in /usr/local/lib/python3.10/dist-packages (from requests->basicsr) (2024.8.30)\n",
            "Requirement already satisfied: imageio>=2.33 in /usr/local/lib/python3.10/dist-packages (from scikit-image->basicsr) (2.35.1)\n",
            "Requirement already satisfied: tifffile>=2022.8.12 in /usr/local/lib/python3.10/dist-packages (from scikit-image->basicsr) (2024.9.20)\n",
            "Requirement already satisfied: packaging>=21 in /usr/local/lib/python3.10/dist-packages (from scikit-image->basicsr) (24.1)\n",
            "Requirement already satisfied: lazy-loader>=0.4 in /usr/local/lib/python3.10/dist-packages (from scikit-image->basicsr) (0.4)\n",
            "Requirement already satisfied: absl-py>=0.4 in /usr/local/lib/python3.10/dist-packages (from tb-nightly->basicsr) (1.4.0)\n",
            "Requirement already satisfied: grpcio>=1.48.2 in /usr/local/lib/python3.10/dist-packages (from tb-nightly->basicsr) (1.64.1)\n",
            "Requirement already satisfied: markdown>=2.6.8 in /usr/local/lib/python3.10/dist-packages (from tb-nightly->basicsr) (3.7)\n",
            "Requirement already satisfied: protobuf!=4.24.0,>=3.19.6 in /usr/local/lib/python3.10/dist-packages (from tb-nightly->basicsr) (3.20.3)\n",
            "Requirement already satisfied: setuptools>=41.0.0 in /usr/local/lib/python3.10/dist-packages (from tb-nightly->basicsr) (71.0.4)\n",
            "Requirement already satisfied: six>1.9 in /usr/local/lib/python3.10/dist-packages (from tb-nightly->basicsr) (1.16.0)\n",
            "Requirement already satisfied: tensorboard-data-server<0.8.0,>=0.7.0 in /usr/local/lib/python3.10/dist-packages (from tb-nightly->basicsr) (0.7.2)\n",
            "Requirement already satisfied: werkzeug>=1.0.1 in /usr/local/lib/python3.10/dist-packages (from tb-nightly->basicsr) (3.0.4)\n",
            "Requirement already satisfied: importlib-metadata>=6.6.0 in /usr/local/lib/python3.10/dist-packages (from yapf->basicsr) (8.5.0)\n",
            "Requirement already satisfied: platformdirs>=3.5.1 in /usr/local/lib/python3.10/dist-packages (from yapf->basicsr) (4.3.6)\n",
            "Requirement already satisfied: tomli>=2.0.1 in /usr/local/lib/python3.10/dist-packages (from yapf->basicsr) (2.0.1)\n",
            "Requirement already satisfied: zipp>=3.20 in /usr/local/lib/python3.10/dist-packages (from importlib-metadata>=6.6.0->yapf->basicsr) (3.20.2)\n",
            "Requirement already satisfied: MarkupSafe>=2.1.1 in /usr/local/lib/python3.10/dist-packages (from werkzeug>=1.0.1->tb-nightly->basicsr) (2.1.5)\n",
            "Requirement already satisfied: mpmath<1.4,>=1.1.0 in /usr/local/lib/python3.10/dist-packages (from sympy->torch>=1.7->basicsr) (1.3.0)\n"
          ]
        }
      ]
    },
    {
      "cell_type": "code",
      "source": [
        "!pip install torch torchvision torchaudio --index-url https://download.pytorch.org/whl/cpu"
      ],
      "metadata": {
        "colab": {
          "base_uri": "https://localhost:8080/"
        },
        "id": "-nGtSlomVv_Z",
        "outputId": "2a1ae3bd-2d02-4252-d163-ef99843f78a4"
      },
      "execution_count": 3,
      "outputs": [
        {
          "output_type": "stream",
          "name": "stdout",
          "text": [
            "Found existing installation: torch 2.4.1+cpu\n",
            "Uninstalling torch-2.4.1+cpu:\n",
            "  Successfully uninstalled torch-2.4.1+cpu\n",
            "Found existing installation: torchvision 0.19.1+cpu\n",
            "Uninstalling torchvision-0.19.1+cpu:\n",
            "  Successfully uninstalled torchvision-0.19.1+cpu\n",
            "Found existing installation: torchaudio 2.4.1+cpu\n",
            "Uninstalling torchaudio-2.4.1+cpu:\n",
            "  Successfully uninstalled torchaudio-2.4.1+cpu\n",
            "Looking in indexes: https://download.pytorch.org/whl/cpu\n",
            "Collecting torch\n",
            "  Using cached https://download.pytorch.org/whl/cpu/torch-2.4.1%2Bcpu-cp310-cp310-linux_x86_64.whl (194.9 MB)\n",
            "Collecting torchvision\n",
            "  Using cached https://download.pytorch.org/whl/cpu/torchvision-0.19.1%2Bcpu-cp310-cp310-linux_x86_64.whl (1.6 MB)\n",
            "Collecting torchaudio\n",
            "  Using cached https://download.pytorch.org/whl/cpu/torchaudio-2.4.1%2Bcpu-cp310-cp310-linux_x86_64.whl (1.7 MB)\n",
            "Requirement already satisfied: filelock in /usr/local/lib/python3.10/dist-packages (from torch) (3.16.1)\n",
            "Requirement already satisfied: typing-extensions>=4.8.0 in /usr/local/lib/python3.10/dist-packages (from torch) (4.12.2)\n",
            "Requirement already satisfied: sympy in /usr/local/lib/python3.10/dist-packages (from torch) (1.13.3)\n",
            "Requirement already satisfied: networkx in /usr/local/lib/python3.10/dist-packages (from torch) (3.3)\n",
            "Requirement already satisfied: jinja2 in /usr/local/lib/python3.10/dist-packages (from torch) (3.1.4)\n",
            "Requirement already satisfied: fsspec in /usr/local/lib/python3.10/dist-packages (from torch) (2024.6.1)\n",
            "Requirement already satisfied: numpy in /usr/local/lib/python3.10/dist-packages (from torchvision) (1.26.4)\n",
            "Requirement already satisfied: pillow!=8.3.*,>=5.3.0 in /usr/local/lib/python3.10/dist-packages (from torchvision) (10.4.0)\n",
            "Requirement already satisfied: MarkupSafe>=2.0 in /usr/local/lib/python3.10/dist-packages (from jinja2->torch) (2.1.5)\n",
            "Requirement already satisfied: mpmath<1.4,>=1.1.0 in /usr/local/lib/python3.10/dist-packages (from sympy->torch) (1.3.0)\n",
            "Installing collected packages: torch, torchvision, torchaudio\n",
            "Successfully installed torch-2.4.1+cpu torchaudio-2.4.1+cpu torchvision-0.19.1+cpu\n"
          ]
        }
      ]
    },
    {
      "cell_type": "code",
      "source": [
        "pip show basicsr"
      ],
      "metadata": {
        "colab": {
          "base_uri": "https://localhost:8080/"
        },
        "id": "92ZVJ7yKUk76",
        "outputId": "6b158510-f5ff-4254-fdad-81b481411d2b"
      },
      "execution_count": 4,
      "outputs": [
        {
          "output_type": "stream",
          "name": "stdout",
          "text": [
            "Name: basicsr\n",
            "Version: 1.4.2\n",
            "Summary: Open Source Image and Video Super-Resolution Toolbox\n",
            "Home-page: https://github.com/xinntao/BasicSR\n",
            "Author: Xintao Wang\n",
            "Author-email: xintao.wang@outlook.com\n",
            "License: Apache License 2.0\n",
            "Location: /usr/local/lib/python3.10/dist-packages\n",
            "Requires: addict, future, lmdb, numpy, opencv-python, Pillow, pyyaml, requests, scikit-image, scipy, tb-nightly, torch, torchvision, tqdm, yapf\n",
            "Required-by: \n"
          ]
        }
      ]
    },
    {
      "cell_type": "code",
      "source": [
        "# Locate the path of degradations.py\n",
        "file_path = '/usr/local/lib/python3.10/dist-packages/basicsr/data/degradations.py'\n",
        "\n",
        "# Read the file\n",
        "with open(file_path, 'r') as file:\n",
        "    file_contents = file.readlines()\n",
        "\n",
        "# Update the specific line\n",
        "for i, line in enumerate(file_contents):\n",
        "    if \"from torchvision.transforms.functional_tensor import rgb_to_grayscale\" in line:\n",
        "        file_contents[i] = line.replace(\"from torchvision.transforms.functional_tensor import rgb_to_grayscale\", \"from torchvision.transforms.functional import rgb_to_grayscale\")\n",
        "\n",
        "# Write the changes back to the file\n",
        "with open(file_path, 'w') as file:\n",
        "    file.writelines(file_contents)\n",
        "\n",
        "print(\"Updated degradations.py successfully!\")\n"
      ],
      "metadata": {
        "colab": {
          "base_uri": "https://localhost:8080/"
        },
        "id": "12D71fQhhvTR",
        "outputId": "738939cd-e10c-43de-c89f-ed54ca55ed07"
      },
      "execution_count": 5,
      "outputs": [
        {
          "output_type": "stream",
          "name": "stdout",
          "text": [
            "Updated degradations.py successfully!\n"
          ]
        }
      ]
    },
    {
      "cell_type": "code",
      "source": [
        "!ls"
      ],
      "metadata": {
        "colab": {
          "base_uri": "https://localhost:8080/"
        },
        "id": "xUVzaX66C_NU",
        "outputId": "448eede3-464f-405c-d10d-f156820f3cad"
      },
      "execution_count": 6,
      "outputs": [
        {
          "output_type": "stream",
          "name": "stdout",
          "text": [
            "CODEOWNERS\t       javascript     requirements.txt\t\t textual_inversion_templates\n",
            "configs\t\t       launch.py      requirements_versions.txt  webui.bat\n",
            "embeddings\t       LICENSE.txt    screenshot.png\t\t webui-macos-env.sh\n",
            "environment-wsl2.yaml  localizations  script.js\t\t\t webui.py\n",
            "extensions\t       models\t      scripts\t\t\t webui.sh\n",
            "extensions-builtin     modules\t      style.css\t\t\t webui-user.bat\n",
            "html\t\t       README.md      test\t\t\t webui-user.sh\n"
          ]
        }
      ]
    },
    {
      "cell_type": "code",
      "source": [
        "!cat requirements_versions.txt"
      ],
      "metadata": {
        "colab": {
          "base_uri": "https://localhost:8080/"
        },
        "id": "RSfXcUhDDGs0",
        "outputId": "89f40d6b-2159-4b33-8fba-7df8809d7b8a"
      },
      "execution_count": 7,
      "outputs": [
        {
          "output_type": "stream",
          "name": "stdout",
          "text": [
            "blendmodes==2022\r\n",
            "transformers==4.25.1\r\n",
            "accelerate==0.12.0\r\n",
            "basicsr==1.4.2\r\n",
            "gfpgan==1.3.8\r\n",
            "gradio==3.16.2\r\n",
            "numpy==1.23.3\r\n",
            "Pillow==9.4.0\r\n",
            "realesrgan==0.3.0\r\n",
            "torch\r\n",
            "omegaconf==2.2.3\r\n",
            "pytorch_lightning==1.6.5\r\n",
            "scikit-image==0.19.2\r\n",
            "fonts\r\n",
            "font-roboto\r\n",
            "timm==0.6.7\r\n",
            "piexif==1.1.3\r\n",
            "einops==0.4.1\r\n",
            "jsonmerge==1.8.0\r\n",
            "clean-fid==0.1.29\r\n",
            "resize-right==0.0.2\r\n",
            "torchdiffeq==0.2.3\r\n",
            "kornia==0.6.7\r\n",
            "lark==1.1.2\r\n",
            "inflection==0.5.1\r\n",
            "GitPython==3.1.27\r\n",
            "torchsde>=0.2.6\r\n",
            "safetensors==0.2.7\r\n",
            "httpcore<=0.15\r\n"
          ]
        }
      ]
    },
    {
      "cell_type": "code",
      "source": [
        "!sed -i 's/pytorch_lightning>=1.9.5/pytorch_lightning==1.6.5/' requirements_versions.txt\n",
        "\n",
        "# # Read the contents of the requirements_versions.txt file\n",
        "# with open('requirements_versions.txt', 'r') as file:\n",
        "#     lines = file.readlines()\n",
        "\n",
        "# # Replace the version of pytorch_lightning\n",
        "# lines = [line.replace('pytorch_lightning==1.7.6', 'pytorch_lightning==1.6.5') for line in lines]\n",
        "\n",
        "# # Write the changes back to the file\n",
        "# with open('requirements_versions.txt', 'w') as file:\n",
        "#     file.writelines(lines)\n"
      ],
      "metadata": {
        "id": "oN6OuH2tFAOu"
      },
      "execution_count": 24,
      "outputs": []
    },
    {
      "cell_type": "code",
      "source": [
        "!cat requirements_versions.txt"
      ],
      "metadata": {
        "colab": {
          "base_uri": "https://localhost:8080/"
        },
        "id": "8_rvjf0Pmx45",
        "outputId": "65d5c01a-a9b3-4bed-9c31-f1ac1bed00d1"
      },
      "execution_count": 25,
      "outputs": [
        {
          "output_type": "stream",
          "name": "stdout",
          "text": [
            "blendmodes==2022\r\n",
            "transformers==4.25.1\r\n",
            "accelerate==0.12.0\r\n",
            "basicsr==1.4.2\r\n",
            "gfpgan==1.3.8\r\n",
            "gradio==3.16.2\r\n",
            "numpy==1.23.3\r\n",
            "Pillow==9.4.0\r\n",
            "realesrgan==0.3.0\r\n",
            "torch\r\n",
            "omegaconf==2.2.3\r\n",
            "pytorch_lightning==1.6.5\r\n",
            "scikit-image==0.19.2\r\n",
            "fonts\r\n",
            "font-roboto\r\n",
            "timm==0.6.7\r\n",
            "piexif==1.1.3\r\n",
            "einops==0.4.1\r\n",
            "jsonmerge==1.8.0\r\n",
            "clean-fid==0.1.29\r\n",
            "resize-right==0.0.2\r\n",
            "torchdiffeq==0.2.3\r\n",
            "kornia==0.6.7\r\n",
            "lark==1.1.2\r\n",
            "inflection==0.5.1\r\n",
            "GitPython==3.1.27\r\n",
            "torchsde>=0.2.6\r\n",
            "safetensors==0.2.7\r\n",
            "httpcore<=0.15\r\n"
          ]
        }
      ]
    },
    {
      "cell_type": "code",
      "source": [
        "!sed -i 's/torchsde==0.2.5/torchsde>=0.2.6/' requirements_versions.txt"
      ],
      "metadata": {
        "id": "gBF2MBztFf_H"
      },
      "execution_count": 10,
      "outputs": []
    },
    {
      "cell_type": "code",
      "source": [
        "!pip install httpx==0.23.3 httpcore==0.16.3"
      ],
      "metadata": {
        "colab": {
          "base_uri": "https://localhost:8080/"
        },
        "id": "Pw6cR4gRCaCC",
        "outputId": "84ffb13c-faaf-4453-cd75-116250828262"
      },
      "execution_count": 11,
      "outputs": [
        {
          "output_type": "stream",
          "name": "stdout",
          "text": [
            "Requirement already satisfied: httpx==0.23.3 in /usr/local/lib/python3.10/dist-packages (0.23.3)\n",
            "Requirement already satisfied: httpcore==0.16.3 in /usr/local/lib/python3.10/dist-packages (0.16.3)\n",
            "Requirement already satisfied: certifi in /usr/local/lib/python3.10/dist-packages (from httpx==0.23.3) (2024.8.30)\n",
            "Requirement already satisfied: rfc3986<2,>=1.3 in /usr/local/lib/python3.10/dist-packages (from rfc3986[idna2008]<2,>=1.3->httpx==0.23.3) (1.5.0)\n",
            "Requirement already satisfied: sniffio in /usr/local/lib/python3.10/dist-packages (from httpx==0.23.3) (1.3.1)\n",
            "Requirement already satisfied: h11<0.15,>=0.13 in /usr/local/lib/python3.10/dist-packages (from httpcore==0.16.3) (0.14.0)\n",
            "Requirement already satisfied: anyio<5.0,>=3.0 in /usr/local/lib/python3.10/dist-packages (from httpcore==0.16.3) (3.7.1)\n",
            "Requirement already satisfied: idna>=2.8 in /usr/local/lib/python3.10/dist-packages (from anyio<5.0,>=3.0->httpcore==0.16.3) (3.10)\n",
            "Requirement already satisfied: exceptiongroup in /usr/local/lib/python3.10/dist-packages (from anyio<5.0,>=3.0->httpcore==0.16.3) (1.2.2)\n"
          ]
        }
      ]
    },
    {
      "cell_type": "code",
      "source": [
        "!curl -L https://huggingface.co/CompVis/stable-diffusion-v-1-4-original/resolve/main/sd-v1-4.ckpt --output \"/content/stable-diffusion-webui/models/Stable-diffusion/sd-v1-4.ckpt\""
      ],
      "metadata": {
        "colab": {
          "base_uri": "https://localhost:8080/"
        },
        "id": "8N4nXU_KZuEU",
        "outputId": "4aac42e8-c57f-4285-a927-8219718839ed"
      },
      "execution_count": 31,
      "outputs": [
        {
          "output_type": "stream",
          "name": "stdout",
          "text": [
            "  % Total    % Received % Xferd  Average Speed   Time    Time     Time  Current\n",
            "                                 Dload  Upload   Total   Spent    Left  Speed\n",
            "100  1093  100  1093    0     0   3114      0 --:--:-- --:--:-- --:--:--  3122\n",
            "100 4067M  100 4067M    0     0   108M      0  0:00:37  0:00:37 --:--:--  138M\n"
          ]
        }
      ]
    },
    {
      "cell_type": "code",
      "source": [
        "from google.colab import drive\n",
        "drive.mount('/content/gdrive', force_remount=True)"
      ],
      "metadata": {
        "colab": {
          "base_uri": "https://localhost:8080/"
        },
        "id": "k70TVRgXdO-G",
        "outputId": "0e9d2fef-c1e6-441c-fd6d-4d4880ed99a7"
      },
      "execution_count": 32,
      "outputs": [
        {
          "output_type": "stream",
          "name": "stdout",
          "text": [
            "Mounted at /content/gdrive\n"
          ]
        }
      ]
    },
    {
      "cell_type": "code",
      "source": [
        "!mkdir -p /content/gdrive/MyDrive/automatic1111/stable-diffusion-webui\n",
        "!cp -a /content/stable-diffusion-webui/ /content/gdrive/MyDrive/automatic1111/stable-diffusion-webui"
      ],
      "metadata": {
        "id": "yMR-auYNdgGk"
      },
      "execution_count": 34,
      "outputs": []
    },
    {
      "cell_type": "code",
      "source": [
        "%cd /content/gdrive/MyDrive/automatic1111/stable-diffusion-webui/stable-diffusion-webui\n",
        "!python launch.py --gradio-auth \"myuser:mypass41891\" --skip-torch-cuda-test --no-half --share\n",
        "# if u have gpu run the following line\n",
        "# !python launch.py --xformers --gradio-auth \"myuser:mypass41891\" --skip-torch-cuda-test"
      ],
      "metadata": {
        "colab": {
          "base_uri": "https://localhost:8080/"
        },
        "id": "EIjZ9xTPd5Ug",
        "outputId": "13d3a3c9-ceef-4468-9b55-7c6ceab03bf0"
      },
      "execution_count": null,
      "outputs": [
        {
          "output_type": "stream",
          "name": "stdout",
          "text": [
            "/content/gdrive/MyDrive/automatic1111/stable-diffusion-webui/stable-diffusion-webui\n",
            "Python 3.10.12 (main, Sep 11 2024, 15:47:36) [GCC 11.4.0]\n",
            "Commit hash: 2c1bb46c7ad5b4536f6587d327a03f0ff7811c5d\n",
            "Installing requirements for Web UI\n",
            "Launching Web UI with arguments: --gradio-auth myuser:mypass41891 --no-half --share\n",
            "/content/gdrive/MyDrive/automatic1111/stable-diffusion-webui/stable-diffusion-webui/modules/devices.py:11: UserWarning: 'has_mps' is deprecated, please use 'torch.backends.mps.is_built()'\n",
            "  if not getattr(torch, 'has_mps', False):\n",
            "/content/gdrive/MyDrive/automatic1111/stable-diffusion-webui/stable-diffusion-webui/modules/devices.py:11: UserWarning: 'has_mps' is deprecated, please use 'torch.backends.mps.is_built()'\n",
            "  if not getattr(torch, 'has_mps', False):\n",
            "Warning: caught exception 'Found no NVIDIA driver on your system. Please check that you have an NVIDIA GPU and installed a driver from http://www.nvidia.com/Download/index.aspx', memory monitor disabled\n",
            "2024-09-27 12:52:05.275057: E external/local_xla/xla/stream_executor/cuda/cuda_fft.cc:485] Unable to register cuFFT factory: Attempting to register factory for plugin cuFFT when one has already been registered\n",
            "2024-09-27 12:52:05.318916: E external/local_xla/xla/stream_executor/cuda/cuda_dnn.cc:8454] Unable to register cuDNN factory: Attempting to register factory for plugin cuDNN when one has already been registered\n",
            "2024-09-27 12:52:05.331605: E external/local_xla/xla/stream_executor/cuda/cuda_blas.cc:1452] Unable to register cuBLAS factory: Attempting to register factory for plugin cuBLAS when one has already been registered\n",
            "2024-09-27 12:52:05.372468: I tensorflow/core/platform/cpu_feature_guard.cc:210] This TensorFlow binary is optimized to use available CPU instructions in performance-critical operations.\n",
            "To enable the following instructions: AVX2 FMA, in other operations, rebuild TensorFlow with the appropriate compiler flags.\n",
            "2024-09-27 12:52:08.297081: W tensorflow/compiler/tf2tensorrt/utils/py_utils.cc:38] TF-TRT Warning: Could not find TensorRT\n",
            "No module 'xformers'. Proceeding without it.\n",
            "Loading weights [fe4efff1e1] from /content/gdrive/MyDrive/automatic1111/stable-diffusion-webui/stable-diffusion-webui/models/Stable-diffusion/sd-v1-4.ckpt\n",
            "/content/gdrive/MyDrive/automatic1111/stable-diffusion-webui/stable-diffusion-webui/modules/safe.py:151: FutureWarning: You are using `torch.load` with `weights_only=False` (the current default value), which uses the default pickle module implicitly. It is possible to construct malicious pickle data which will execute arbitrary code during unpickling (See https://github.com/pytorch/pytorch/blob/main/SECURITY.md#untrusted-models for more details). In a future release, the default value for `weights_only` will be flipped to `True`. This limits the functions that could be executed during unpickling. Arbitrary objects will no longer be allowed to be loaded via this mode unless they are explicitly allowlisted by the user via `torch.serialization.add_safe_globals`. We recommend you start setting `weights_only=True` for any use case where you don't have full control of the loaded file. Please open an issue on GitHub for any issues related to this experimental feature.\n",
            "  return unsafe_torch_load(filename, *args, **kwargs)\n",
            "Creating model from config: /content/gdrive/MyDrive/automatic1111/stable-diffusion-webui/stable-diffusion-webui/configs/v1-inference.yaml\n",
            "LatentDiffusion: Running in eps-prediction mode\n",
            "DiffusionWrapper has 859.52 M params.\n",
            "/usr/local/lib/python3.10/dist-packages/huggingface_hub/file_download.py:1150: FutureWarning: `resume_download` is deprecated and will be removed in version 1.0.0. Downloads always resume when possible. If you want to force a new download, use `force_download=True`.\n",
            "  warnings.warn(\n",
            "Applying cross attention optimization (InvokeAI).\n",
            "Textual inversion embeddings loaded(0): \n",
            "Model loaded in 25.1s (load weights from disk: 19.6s, create model: 1.8s, apply weights to model: 3.5s).\n",
            "Running on local URL:  http://127.0.0.1:7860\n",
            "Running on public URL: https://b7469d12-5d01-4da0.gradio.live\n",
            "\n",
            "This share link expires in 72 hours. For free permanent hosting and GPU upgrades (NEW!), check out Spaces: https://huggingface.co/spaces\n",
            "/content/gdrive/MyDrive/automatic1111/stable-diffusion-webui/stable-diffusion-webui/modules/safe.py:151: FutureWarning: You are using `torch.load` with `weights_only=False` (the current default value), which uses the default pickle module implicitly. It is possible to construct malicious pickle data which will execute arbitrary code during unpickling (See https://github.com/pytorch/pytorch/blob/main/SECURITY.md#untrusted-models for more details). In a future release, the default value for `weights_only` will be flipped to `True`. This limits the functions that could be executed during unpickling. Arbitrary objects will no longer be allowed to be loaded via this mode unless they are explicitly allowlisted by the user via `torch.serialization.add_safe_globals`. We recommend you start setting `weights_only=True` for any use case where you don't have full control of the loaded file. Please open an issue on GitHub for any issues related to this experimental feature.\n",
            "  return unsafe_torch_load(filename, *args, **kwargs)\n",
            "  0% 0/20 [00:00<?, ?it/s]\n",
            "  5% 1/20 [00:43<13:53, 43.85s/it]\n",
            " 10% 2/20 [01:25<12:47, 42.66s/it]\n",
            " 15% 3/20 [02:09<12:12, 43.10s/it]\n",
            " 20% 4/20 [02:57<11:59, 45.00s/it]"
          ]
        }
      ]
    },
    {
      "cell_type": "code",
      "source": [],
      "metadata": {
        "id": "6ptd6TssfYHl"
      },
      "execution_count": null,
      "outputs": []
    }
  ]
}